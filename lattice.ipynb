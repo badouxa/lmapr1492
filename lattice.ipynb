{
 "cells": [
  {
   "cell_type": "markdown",
   "id": "7127fcd6",
   "metadata": {},
   "source": [
    "# Lattice"
   ]
  },
  {
   "cell_type": "code",
   "execution_count": 51,
   "id": "50d5ee91",
   "metadata": {},
   "outputs": [
    {
     "name": "stdout",
     "output_type": "stream",
     "text": [
      "Full Formula (Ti1 Fe2 Si1)\n",
      "Reduced Formula: TiFe2Si\n",
      "abc   :   4.024911   4.024911   4.024911\n",
      "angles:  60.000000  60.000000  60.000000\n",
      "Sites (4)\n",
      "  #  SP       a     b     c    magmom\n",
      "---  ----  ----  ----  ----  --------\n",
      "  0  Ti    0     0     0           -0\n",
      "  1  Fe    0.25  0.25  0.25         0\n",
      "  2  Fe    0.75  0.75  0.75         0\n",
      "  3  Si    0.5   0.5   0.5         -0\n",
      "les vecteurs dans la base direct sont : a = b = c = 4.024911 avec des angles de 60 degrés\n",
      "Le système cristallin est : cubic\n"
     ]
    },
    {
     "data": {
      "text/plain": [
       "[(array([0., 0., 0.]), 1),\n",
       " (array([0.1, 0. , 0. ]), 8),\n",
       " (array([0.2, 0. , 0. ]), 8),\n",
       " (array([0.3, 0. , 0. ]), 8),\n",
       " (array([0.4, 0. , 0. ]), 8),\n",
       " (array([0.5, 0. , 0. ]), 4),\n",
       " (array([0.1, 0.1, 0. ]), 6),\n",
       " (array([0.2, 0.1, 0. ]), 24),\n",
       " (array([0.3, 0.1, 0. ]), 24),\n",
       " (array([0.4, 0.1, 0. ]), 24),\n",
       " (array([0.5, 0.1, 0. ]), 24),\n",
       " (array([-0.4,  0.1,  0. ]), 24),\n",
       " (array([-0.3,  0.1,  0. ]), 24),\n",
       " (array([-0.2,  0.1,  0. ]), 24),\n",
       " (array([-0.1,  0.1,  0. ]), 12),\n",
       " (array([0.2, 0.2, 0. ]), 6),\n",
       " (array([0.3, 0.2, 0. ]), 24),\n",
       " (array([0.4, 0.2, 0. ]), 24),\n",
       " (array([0.5, 0.2, 0. ]), 24),\n",
       " (array([-0.4,  0.2,  0. ]), 24),\n",
       " (array([-0.3,  0.2,  0. ]), 24),\n",
       " (array([-0.2,  0.2,  0. ]), 12),\n",
       " (array([0.3, 0.3, 0. ]), 6),\n",
       " (array([0.4, 0.3, 0. ]), 24),\n",
       " (array([0.5, 0.3, 0. ]), 24),\n",
       " (array([-0.4,  0.3,  0. ]), 24),\n",
       " (array([-0.3,  0.3,  0. ]), 12),\n",
       " (array([0.4, 0.4, 0. ]), 6),\n",
       " (array([0.5, 0.4, 0. ]), 24),\n",
       " (array([-0.4,  0.4,  0. ]), 12),\n",
       " (array([0.5, 0.5, 0. ]), 3),\n",
       " (array([0.3, 0.2, 0.1]), 24),\n",
       " (array([0.4, 0.2, 0.1]), 48),\n",
       " (array([0.5, 0.2, 0.1]), 48),\n",
       " (array([-0.4,  0.2,  0.1]), 24),\n",
       " (array([0.4, 0.3, 0.1]), 24),\n",
       " (array([0.5, 0.3, 0.1]), 48),\n",
       " (array([-0.4,  0.3,  0.1]), 48),\n",
       " (array([-0.3,  0.3,  0.1]), 48),\n",
       " (array([-0.2,  0.3,  0.1]), 24),\n",
       " (array([0.5, 0.4, 0.1]), 24),\n",
       " (array([-0.4,  0.4,  0.1]), 48),\n",
       " (array([-0.3,  0.4,  0.1]), 24),\n",
       " (array([-0.4,  0.5,  0.1]), 12),\n",
       " (array([-0.4,  0.4,  0.2]), 24),\n",
       " (array([-0.3,  0.4,  0.2]), 24),\n",
       " (array([-0.3,  0.5,  0.2]), 12)]"
      ]
     },
     "execution_count": 51,
     "metadata": {},
     "output_type": "execute_result"
    }
   ],
   "source": [
    "from pymatgen.ext.matproj import MPRester\n",
    "from pymatgen.io.cif import CifWriter\n",
    "from pymatgen.symmetry.analyzer import SpacegroupAnalyzer,PointGroupAnalyzer\n",
    "from pymatgen.core import Lattice, Structure, Molecule, IMolecule\n",
    "\n",
    "\n",
    "structure = 0\n",
    "\n",
    "with MPRester('G076mkTglycC4EiF') as m:\n",
    "    id = 'mp-866141'\n",
    "    structure = m.get_structure_by_material_id(id)\n",
    "print(structure)\n",
    "print(\"les vecteurs dans la base direct sont : a = b = c = 4.024911 avec des angles de 60 degrés\")\n",
    "\n",
    "#molecule = IMolecule([\"Ti\"],[\"Fe\"],[\"Fe\"],[\"Si\"], [[0, 0, 0], [0.25, 0.25, 0.25], [0.75, 0.75, 0.75], [0.5,0.5,0.5]])\n",
    "#finder = PointGroupAnalyzer(structure)\n",
    "#pointGroup = finder.get_pointgroup() #pour connaitre le groupe ponctuel mais a pauffiner\n",
    "#print(pointGroup)\n",
    "\n",
    "finder = SpacegroupAnalyzer(structure)  #pour connaitre le système cristallin\n",
    "print(\"Le système cristallin est : \" + finder.get_crystal_system())\n",
    "\n",
    "finder.get_ir_reciprocal_mesh()   #pour avoir le réseau réciproque\n",
    "\n"
   ]
  },
  {
   "cell_type": "code",
   "execution_count": null,
   "id": "86b15957",
   "metadata": {},
   "outputs": [],
   "source": []
  }
 ],
 "metadata": {
  "kernelspec": {
   "display_name": "Python 3",
   "language": "python",
   "name": "python3"
  },
  "language_info": {
   "codemirror_mode": {
    "name": "ipython",
    "version": 3
   },
   "file_extension": ".py",
   "mimetype": "text/x-python",
   "name": "python",
   "nbconvert_exporter": "python",
   "pygments_lexer": "ipython3",
   "version": "3.6.8"
  }
 },
 "nbformat": 4,
 "nbformat_minor": 5
}
