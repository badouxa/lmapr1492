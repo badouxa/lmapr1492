{
 "cells": [
  {
   "cell_type": "markdown",
   "metadata": {},
   "source": [
    "# Download a .cif File With Jupyter"
   ]
  },
  {
   "cell_type": "code",
   "execution_count": 1,
   "metadata": {},
   "outputs": [],
   "source": [
    "import requests\n",
    "\n",
    "url = \"https://materialsproject.org/materials/mp-866141/#\"\n",
    "#just a random link of a dummy file\n",
    "r = requests.get(url)\n",
    "#retrieving data from the URL using get method\n",
    "with open(\"TiFe2Si_mp-866141_symmetrized.cif\", 'wb') as f:\n",
    "#giving a name and saving it in any required format\n",
    "#opening the file in write mode\n",
    "    f.write(r.content) \n",
    "#writes the URL contents from the server"
   ]
  },
  {
   "cell_type": "code",
   "execution_count": null,
   "metadata": {},
   "outputs": [],
   "source": []
  }
 ],
 "metadata": {
  "kernelspec": {
   "display_name": "Python 3",
   "language": "python",
   "name": "python3"
  },
  "language_info": {
   "codemirror_mode": {
    "name": "ipython",
    "version": 3
   },
   "file_extension": ".py",
   "mimetype": "text/x-python",
   "name": "python",
   "nbconvert_exporter": "python",
   "pygments_lexer": "ipython3",
   "version": "3.8.5"
  }
 },
 "nbformat": 4,
 "nbformat_minor": 4
}
