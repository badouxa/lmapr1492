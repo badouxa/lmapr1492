{
 "cells": [
  {
   "cell_type": "markdown",
   "id": "3537f0d2",
   "metadata": {},
   "source": [
    "# symmetry"
   ]
  },
  {
   "cell_type": "code",
   "execution_count": 67,
   "id": "dfa610c1",
   "metadata": {},
   "outputs": [],
   "source": [
    "from jupyter_jsmol import JsmolView\n",
    "from ipywidgets import Layout, widgets, interact, Output\n",
    "from IPython.display import display\n",
    "from pymatgen.core import Lattice, Structure\n",
    "from jupyter_jsmol.pymatgen import quick_view"
   ]
  },
  {
   "cell_type": "code",
   "execution_count": 80,
   "id": "7d660dae",
   "metadata": {},
   "outputs": [
    {
     "data": {
      "application/vnd.jupyter.widget-view+json": {
       "model_id": "06c58f376c024d4eb82445b90fbf0b9a",
       "version_major": 2,
       "version_minor": 0
      },
      "text/plain": [
       "interactive(children=(ToggleButton(value=False, description='rotation'), Output()), _dom_classes=('widget-inte…"
      ]
     },
     "metadata": {},
     "output_type": "display_data"
    },
    {
     "data": {
      "application/vnd.jupyter.widget-view+json": {
       "model_id": "37ab3e19ea5c43ae9bfea5fe3dbf29c7",
       "version_major": 2,
       "version_minor": 0
      },
      "text/plain": [
       "JsmolView(layout=Layout(align_self='stretch', height='400px'))"
      ]
     },
     "metadata": {},
     "output_type": "display_data"
    }
   ],
   "source": [
    "view1 = JsmolView()\n",
    "\n",
    "@interact(rotation=widgets.ToggleButton())\n",
    "def load_mode(rotation):\n",
    "    view1.script('rotate {}'.format('on' if rotation else 'off'))  \n",
    "\n",
    "display(view1)\n",
    "\n",
    "view1.load_file('TiFe2Si.cif', '{2 2 2}', inline=True) #le {2 2 2} indique le nombre de maillele selon chaque longueur"
   ]
  },
  {
   "cell_type": "code",
   "execution_count": 75,
   "id": "44deb095",
   "metadata": {},
   "outputs": [
    {
     "data": {
      "application/vnd.jupyter.widget-view+json": {
       "model_id": "7a12f1b5a81a4d5a8b042042d2535db2",
       "version_major": 2,
       "version_minor": 0
      },
      "text/plain": [
       "interactive(children=(IntSlider(value=6, description='mode', max=9, min=1), Output()), _dom_classes=('widget-i…"
      ]
     },
     "metadata": {},
     "output_type": "display_data"
    },
    {
     "data": {
      "application/vnd.jupyter.widget-view+json": {
       "model_id": "64f47d4cc1b44c5eaafba046ceaf995c",
       "version_major": 2,
       "version_minor": 0
      },
      "text/plain": [
       "interactive(children=(FloatSlider(value=1.0, description='amplitude', max=2.0, min=0.1), Output()), _dom_class…"
      ]
     },
     "metadata": {},
     "output_type": "display_data"
    },
    {
     "data": {
      "application/vnd.jupyter.widget-view+json": {
       "model_id": "837c676ec0ac416bbc531bf0767d9236",
       "version_major": 2,
       "version_minor": 0
      },
      "text/plain": [
       "interactive(children=(FloatSlider(value=1.0, description='period', max=2.0, min=0.1), Output()), _dom_classes=…"
      ]
     },
     "metadata": {},
     "output_type": "display_data"
    },
    {
     "data": {
      "application/vnd.jupyter.widget-view+json": {
       "model_id": "b6733a88b5b24f9eba736e17e8c681b6",
       "version_major": 2,
       "version_minor": 0
      },
      "text/plain": [
       "interactive(children=(ToggleButton(value=False, description='pause'), Output()), _dom_classes=('widget-interac…"
      ]
     },
     "metadata": {},
     "output_type": "display_data"
    },
    {
     "data": {
      "application/vnd.jupyter.widget-view+json": {
       "model_id": "2a3dff34efb440bfbf403bfbe27652c8",
       "version_major": 2,
       "version_minor": 0
      },
      "text/plain": [
       "JsmolView(layout=Layout(align_self='stretch', height='400px'))"
      ]
     },
     "metadata": {},
     "output_type": "display_data"
    }
   ],
   "source": [
    "view2 = JsmolView()\n",
    "\n",
    "@interact(mode=widgets.IntSlider(min=1, max=9, step=1, value=6))\n",
    "def load_mode(mode):\n",
    "    view2.script('frame {}'.format(mode))\n",
    "\n",
    "@interact(amplitude=widgets.FloatSlider(min=0.1, max=2, value=1.))\n",
    "def set_amplitude(amplitude):\n",
    "    view2.script('vibration SCALE {};'.format(amplitude))\n",
    "\n",
    "@interact(period=widgets.FloatSlider(min=.1, max=2, value=1))\n",
    "def set_period(period):\n",
    "    view2.script('vibration {};'.format(period))\n",
    "\n",
    "\n",
    "@interact(pause=widgets.ToggleButton())\n",
    "def call_stop(pause):\n",
    "    view2.script('vibration {};'.format('off' if  pause else 'on'))\n",
    "\n",
    "\n",
    "display(view2)\n",
    "\n",
    "view2.load_file('TiFe2Si.cif')\n",
    "view2.script('frame 6; vibration SCALE 1; vibration 1')"
   ]
  },
  {
   "cell_type": "code",
   "execution_count": 71,
   "id": "7da09540",
   "metadata": {
    "scrolled": true
   },
   "outputs": [
    {
     "data": {
      "application/vnd.jupyter.widget-view+json": {
       "model_id": "9d12dac098c4434ab3bf05e526939311",
       "version_major": 2,
       "version_minor": 0
      },
      "text/plain": [
       "JsmolView(layout=Layout(align_self='stretch', height='400px'))"
      ]
     },
     "metadata": {},
     "output_type": "display_data"
    }
   ],
   "source": [
    "coords = [[0, 0, 0], [0.25,0.25,0.25], [0.75,0.75,0.75], [0.5,0.5,0.5]]  #trouvé via les taches précédentes.\n",
    "lattice = Lattice.from_parameters(a=4.025, b=4.025, c=4.025, alpha=60, beta=60, gamma=60)\n",
    "struct = Structure(lattice, [\"Ti\", \"Fe\", \"Fe\", \"Si\"], coords)\n",
    "quick_view(struct, conventional=True, supercell=[1,1,1]) #vue interactive de la cellule."
   ]
  },
  {
   "cell_type": "markdown",
   "id": "46e0ab5e",
   "metadata": {},
   "source": [
    "Ci-dessus nous obtenons différentes images qui nous montre la structure du matériau.\n",
    "On voit clairement qu'il existe différentes symétries dans le cristal.\n",
    "\n",
    "Un premier élément de symétrie est le plan de symétrie qui passe par les points : (0,0,0) , (a,b,0) et (a,b,c) dans ce cas-ci comme la maille est cubique tout les élément ducristal sont symétrique par rapport a ce plan \"miroir\".(ce n'est pas le seul plan de symétrie, on peut utiliser cette symétrie pour les atomes en gris qui sont du Ti)\n",
    "\n",
    "Un second élément de symétrie est la symétrie par rotation pour les atomes de Fer (en rouge ci-dessus), on a un centre de symétrie qui est la droite passant par (a/2,b/2,0) et (a/2,b/2,c).(ce n'est pas la seule symétrie de rotation)\n",
    "\n",
    "Enfin, un dernier élément de symétrie est par exemple la rotoinversion des atomes de Silicium (Si, en beige ci-dessus). En effet, en effectuant une rotation de 90° autour de l'axe passant par (a/2,b/2,0) et (a/2,b/2,c) puis une inversion par rapport au plan perpandiculaire a cet axe passant par le point (a/2,b/2,c/2)."
   ]
  }
 ],
 "metadata": {
  "kernelspec": {
   "display_name": "Python 3",
   "language": "python",
   "name": "python3"
  },
  "language_info": {
   "codemirror_mode": {
    "name": "ipython",
    "version": 3
   },
   "file_extension": ".py",
   "mimetype": "text/x-python",
   "name": "python",
   "nbconvert_exporter": "python",
   "pygments_lexer": "ipython3",
   "version": "3.6.8"
  }
 },
 "nbformat": 4,
 "nbformat_minor": 5
}
